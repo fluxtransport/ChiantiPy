{
 "cells": [
  {
   "cell_type": "markdown",
   "metadata": {},
   "source": [
    "# Timing test for IO operation in ChiantiPy\n",
    "### Author: Mark Cheung, cheung@lmsal.com\n",
    "## Problem: ChiantiPy.tools.io.wgfaRead() is the main IO bottleneck. \n",
    "## Summary: The time it takes to do initialize an ion (e.g. fe14) is dominated by the time spent in wgfaRead().\n",
    "##          Saving the wgfa files in the HDF5 format (https://www.hdfgroup.org) results in > 300x speed up in wfga read time, and ~ 20x speedup in ion setup time."
   ]
  },
  {
   "cell_type": "code",
   "execution_count": 7,
   "metadata": {},
   "outputs": [],
   "source": [
    "import os\n",
    "import numpy as np\n",
    "import glob\n",
    "import h5py\n",
    "os.environ['XUVTOP'] = '/Users/cheung/python/ChiantiPy-master/dbase'"
   ]
  },
  {
   "cell_type": "code",
   "execution_count": 8,
   "metadata": {},
   "outputs": [],
   "source": [
    "import ChiantiPy\n",
    "import ChiantiPy.core as ch\n",
    "import ChiantiPy.tools.io as io\n",
    "import ChiantiPy.tools.util as util"
   ]
  },
  {
   "cell_type": "markdown",
   "metadata": {},
   "source": [
    "## Do some timing tests with IO routines"
   ]
  },
  {
   "cell_type": "code",
   "execution_count": 9,
   "metadata": {},
   "outputs": [],
   "source": [
    "temp = 10.**(5.8 + 0.05*np.arange(21.))\n",
    "edens = 1.e+9"
   ]
  },
  {
   "cell_type": "code",
   "execution_count": 10,
   "metadata": {},
   "outputs": [
    {
     "name": "stdout",
     "output_type": "stream",
     "text": [
      "3.12 s ± 39.3 ms per loop (mean ± std. dev. of 7 runs, 1 loop each)\n"
     ]
    }
   ],
   "source": [
    "%%timeit\n",
    "fe14 = ch.ion('fe_14', temperature=temp, eDensity=edens, hdf5=False)"
   ]
  },
  {
   "cell_type": "code",
   "execution_count": 11,
   "metadata": {},
   "outputs": [
    {
     "name": "stdout",
     "output_type": "stream",
     "text": [
      "162 ms ± 1.38 ms per loop (mean ± std. dev. of 7 runs, 10 loops each)\n"
     ]
    }
   ],
   "source": [
    "%%timeit\n",
    "fe14 = ch.ion('fe_14', temperature=temp, eDensity=edens, hdf5=True)"
   ]
  },
  {
   "cell_type": "markdown",
   "metadata": {},
   "source": [
    "## How come the previous command (with hfd5=True) is so much faster?"
   ]
  },
  {
   "cell_type": "code",
   "execution_count": null,
   "metadata": {},
   "outputs": [],
   "source": [
    "%%timeit\n",
    "io.elvlcRead('fe_14')\n",
    "#This is not a bottleneck"
   ]
  },
  {
   "cell_type": "code",
   "execution_count": null,
   "metadata": {},
   "outputs": [],
   "source": [
    "%%timeit\n",
    "io.scupsRead('fe_14')\n",
    "#This is not a bottleneck"
   ]
  },
  {
   "cell_type": "code",
   "execution_count": 5,
   "metadata": {},
   "outputs": [
    {
     "name": "stdout",
     "output_type": "stream",
     "text": [
      "921 µs ± 5.68 µs per loop (mean ± std. dev. of 7 runs, 1000 loops each)\n"
     ]
    }
   ],
   "source": [
    "%%timeit\n",
    "io.splupsRead('fe_14', filetype='psplups')\n",
    "#This is not a bottleneck"
   ]
  },
  {
   "cell_type": "code",
   "execution_count": 14,
   "metadata": {},
   "outputs": [
    {
     "name": "stdout",
     "output_type": "stream",
     "text": [
      "3.06 s ± 35.3 ms per loop (mean ± std. dev. of 7 runs, 1 loop each)\n"
     ]
    }
   ],
   "source": [
    "%%timeit\n",
    "io.wgfaRead('fe_14')\n",
    "#This is THE bottleneck"
   ]
  },
  {
   "cell_type": "code",
   "execution_count": 16,
   "metadata": {},
   "outputs": [],
   "source": [
    "a = io.wgfaRead('fe_14')"
   ]
  },
  {
   "cell_type": "markdown",
   "metadata": {},
   "source": [
    "### Let's save the output from wgfaRead() into a HDF5 file"
   ]
  },
  {
   "cell_type": "code",
   "execution_count": 17,
   "metadata": {},
   "outputs": [
    {
     "name": "stdout",
     "output_type": "stream",
     "text": [
      "rm: test.h5: No such file or directory\n"
     ]
    },
    {
     "name": "stderr",
     "output_type": "stream",
     "text": [
      "IOPub data rate exceeded.\n",
      "The notebook server will temporarily stop sending output\n",
      "to the client in order to avoid crashing it.\n",
      "To change this limit, set the config variable\n",
      "`--NotebookApp.iopub_data_rate_limit`.\n",
      "\n",
      "Current values:\n",
      "NotebookApp.iopub_data_rate_limit=1000000.0 (bytes/sec)\n",
      "NotebookApp.rate_limit_window=3.0 (secs)\n",
      "\n"
     ]
    }
   ],
   "source": [
    "def safe_str(obj):\n",
    "    return obj.encode('utf-8','ignore')\n",
    "\n",
    "def wgfa2h5(a,filename):\n",
    "    h = h5py.File(filename,mode='w')\n",
    "    for k, v in a.items():\n",
    "        #print(k, len(v))\n",
    "        if k == 'ref':\n",
    "            vv = np.zeros(len(v),dtype=np.string_) #'|S230')\n",
    "            #There are some strange characters in the comments of the wfga files. Need to encode. \n",
    "            for p in range(len(v)):\n",
    "                vv[p] = safe_str(v[p])\n",
    "            h.create_dataset(k, data=np.array(vv, dtype=np.string_))\n",
    "        elif k == 'ionS':\n",
    "            h.create_dataset(k, data=np.array(v, dtype=np.string_)) #'|S5'))\n",
    "        elif k == 'filename':\n",
    "            h.create_dataset(k, data=np.array(v, dtype=np.string_)) #'|S58'))\n",
    "        elif k == 'pretty1':\n",
    "            h.create_dataset(k, data=np.array(v, dtype=np.string_)) #'|S18'))\n",
    "        elif k == 'pretty2':\n",
    "            h.create_dataset(k, data=np.array(v, dtype=np.string_)) #'|S18'))\n",
    "        else:\n",
    "            h.create_dataset(k, data=np.array(v))\n",
    "    h.close()\n",
    "    return \n",
    "\n",
    "!rm test.h5\n",
    "print(a.items())\n",
    "wgfa2h5(a,'test.h5')"
   ]
  },
  {
   "cell_type": "markdown",
   "metadata": {},
   "source": [
    "## Let's try reading in the HDF5 file"
   ]
  },
  {
   "cell_type": "code",
   "execution_count": 18,
   "metadata": {},
   "outputs": [],
   "source": [
    "h = h5py.File('test.h5', mode='r')\n",
    "b = {}\n",
    "for k in list(h.keys()):\n",
    "    b[k] = h[k].value\n",
    "h.close()"
   ]
  },
  {
   "cell_type": "markdown",
   "metadata": {},
   "source": [
    "# NOTE: wgfaRead() time is 3 s, hdf5 read time is 8 ms"
   ]
  },
  {
   "cell_type": "code",
   "execution_count": 20,
   "metadata": {},
   "outputs": [],
   "source": [
    "base = os.environ['XUVTOP']\n",
    "atoms = np.sort(glob.glob('{}/*'.format(os.environ['XUVTOP'])))"
   ]
  },
  {
   "cell_type": "markdown",
   "metadata": {},
   "source": [
    "### The following block is code to convert all wgfa files to HDF5."
   ]
  },
  {
   "cell_type": "code",
   "execution_count": 21,
   "metadata": {},
   "outputs": [
    {
     "name": "stdout",
     "output_type": "stream",
     "text": [
      "Wrote out /Users/cheung/python/ChiantiPy-master/dbase/al/al_13/al_13.h5\n",
      "Wrote out /Users/cheung/python/ChiantiPy-master/dbase/al/al_12/al_12.h5\n",
      "Wrote out /Users/cheung/python/ChiantiPy-master/dbase/al/al_9/al_9.h5\n",
      "Wrote out /Users/cheung/python/ChiantiPy-master/dbase/al/al_7/al_7.h5\n",
      "Wrote out /Users/cheung/python/ChiantiPy-master/dbase/al/al_6/al_6.h5\n",
      "Wrote out /Users/cheung/python/ChiantiPy-master/dbase/al/al_8/al_8.h5\n",
      "Wrote out /Users/cheung/python/ChiantiPy-master/dbase/al/al_10/al_10.h5\n",
      "Wrote out /Users/cheung/python/ChiantiPy-master/dbase/al/al_12d/al_12d.h5\n",
      "Wrote out /Users/cheung/python/ChiantiPy-master/dbase/al/al_11/al_11.h5\n",
      "Wrote out /Users/cheung/python/ChiantiPy-master/dbase/al/al_3/al_3.h5\n",
      "Wrote out /Users/cheung/python/ChiantiPy-master/dbase/al/al_4/al_4.h5\n",
      "Wrote out /Users/cheung/python/ChiantiPy-master/dbase/al/al_5/al_5.h5\n",
      "Wrote out /Users/cheung/python/ChiantiPy-master/dbase/al/al_2/al_2.h5\n",
      "Wrote out /Users/cheung/python/ChiantiPy-master/dbase/ar/ar_10/ar_10.h5\n",
      "Wrote out /Users/cheung/python/ChiantiPy-master/dbase/ar/ar_17/ar_17.h5\n",
      "Wrote out /Users/cheung/python/ChiantiPy-master/dbase/ar/ar_5/ar_5.h5\n",
      "Wrote out /Users/cheung/python/ChiantiPy-master/dbase/ar/ar_16/ar_16.h5\n",
      "Wrote out /Users/cheung/python/ChiantiPy-master/dbase/ar/ar_11/ar_11.h5\n",
      "Wrote out /Users/cheung/python/ChiantiPy-master/dbase/ar/ar_18/ar_18.h5\n",
      "Wrote out /Users/cheung/python/ChiantiPy-master/dbase/ar/ar_4/ar_4.h5\n",
      "Wrote out /Users/cheung/python/ChiantiPy-master/dbase/ar/ar_3/ar_3.h5\n",
      "Wrote out /Users/cheung/python/ChiantiPy-master/dbase/ar/ar_8/ar_8.h5\n",
      "Wrote out /Users/cheung/python/ChiantiPy-master/dbase/ar/ar_14/ar_14.h5\n",
      "Wrote out /Users/cheung/python/ChiantiPy-master/dbase/ar/ar_13/ar_13.h5\n",
      "Wrote out /Users/cheung/python/ChiantiPy-master/dbase/ar/ar_7/ar_7.h5\n",
      "Wrote out /Users/cheung/python/ChiantiPy-master/dbase/ar/ar_9/ar_9.h5\n",
      "Wrote out /Users/cheung/python/ChiantiPy-master/dbase/ar/ar_12/ar_12.h5\n",
      "Wrote out /Users/cheung/python/ChiantiPy-master/dbase/ar/ar_15/ar_15.h5\n",
      "Wrote out /Users/cheung/python/ChiantiPy-master/dbase/ar/ar_17d/ar_17d.h5\n",
      "Wrote out /Users/cheung/python/ChiantiPy-master/dbase/c/c_5/c_5.h5\n",
      "Wrote out /Users/cheung/python/ChiantiPy-master/dbase/c/c_2/c_2.h5\n",
      "Wrote out /Users/cheung/python/ChiantiPy-master/dbase/c/c_3/c_3.h5\n",
      "Wrote out /Users/cheung/python/ChiantiPy-master/dbase/c/c_4/c_4.h5\n",
      "Wrote out /Users/cheung/python/ChiantiPy-master/dbase/c/c_1/c_1.h5\n",
      "Wrote out /Users/cheung/python/ChiantiPy-master/dbase/c/c_6/c_6.h5\n",
      "Wrote out /Users/cheung/python/ChiantiPy-master/dbase/c/c_5d/c_5d.h5\n",
      "Wrote out /Users/cheung/python/ChiantiPy-master/dbase/ca/ca_17/ca_17.h5\n",
      "Wrote out /Users/cheung/python/ChiantiPy-master/dbase/ca/ca_10/ca_10.h5\n",
      "Wrote out /Users/cheung/python/ChiantiPy-master/dbase/ca/ca_19/ca_19.h5\n",
      "Wrote out /Users/cheung/python/ChiantiPy-master/dbase/ca/ca_20/ca_20.h5\n",
      "Wrote out /Users/cheung/python/ChiantiPy-master/dbase/ca/ca_18/ca_18.h5\n",
      "Wrote out /Users/cheung/python/ChiantiPy-master/dbase/ca/ca_11/ca_11.h5\n",
      "Wrote out /Users/cheung/python/ChiantiPy-master/dbase/ca/ca_16/ca_16.h5\n",
      "Wrote out /Users/cheung/python/ChiantiPy-master/dbase/ca/ca_5/ca_5.h5\n",
      "Wrote out /Users/cheung/python/ChiantiPy-master/dbase/ca/ca_2/ca_2.h5\n",
      "Wrote out /Users/cheung/python/ChiantiPy-master/dbase/ca/ca_19d/ca_19d.h5\n",
      "Wrote out /Users/cheung/python/ChiantiPy-master/dbase/ca/ca_13/ca_13.h5\n",
      "Wrote out /Users/cheung/python/ChiantiPy-master/dbase/ca/ca_14/ca_14.h5\n",
      "Wrote out /Users/cheung/python/ChiantiPy-master/dbase/ca/ca_15/ca_15.h5\n",
      "Wrote out /Users/cheung/python/ChiantiPy-master/dbase/ca/ca_12/ca_12.h5\n",
      "Wrote out /Users/cheung/python/ChiantiPy-master/dbase/ca/ca_9/ca_9.h5\n",
      "Wrote out /Users/cheung/python/ChiantiPy-master/dbase/ca/ca_7/ca_7.h5\n",
      "Wrote out /Users/cheung/python/ChiantiPy-master/dbase/ca/ca_6/ca_6.h5\n",
      "Wrote out /Users/cheung/python/ChiantiPy-master/dbase/ca/ca_8/ca_8.h5\n",
      "Wrote out /Users/cheung/python/ChiantiPy-master/dbase/cl/cl_2/cl_2.h5\n",
      "Wrote out /Users/cheung/python/ChiantiPy-master/dbase/cl/cl_3/cl_3.h5\n",
      "Wrote out /Users/cheung/python/ChiantiPy-master/dbase/cl/cl_4/cl_4.h5\n",
      "Wrote out /Users/cheung/python/ChiantiPy-master/dbase/cl/cl_12/cl_12.h5\n",
      "Wrote out /Users/cheung/python/ChiantiPy-master/dbase/cl/cl_15/cl_15.h5\n",
      "Wrote out /Users/cheung/python/ChiantiPy-master/dbase/cl/cl_14/cl_14.h5\n",
      "Wrote out /Users/cheung/python/ChiantiPy-master/dbase/cl/cl_13/cl_13.h5\n",
      "Wrote out /Users/cheung/python/ChiantiPy-master/dbase/cl/cl_16/cl_16.h5\n",
      "Wrote out /Users/cheung/python/ChiantiPy-master/dbase/cl/cl_11/cl_11.h5\n",
      "Wrote out /Users/cheung/python/ChiantiPy-master/dbase/cl/cl_10/cl_10.h5\n",
      "Wrote out /Users/cheung/python/ChiantiPy-master/dbase/cl/cl_17/cl_17.h5\n",
      "Wrote out /Users/cheung/python/ChiantiPy-master/dbase/co/co_18/co_18.h5\n",
      "Wrote out /Users/cheung/python/ChiantiPy-master/dbase/co/co_20/co_20.h5\n",
      "Wrote out /Users/cheung/python/ChiantiPy-master/dbase/co/co_21/co_21.h5\n",
      "Wrote out /Users/cheung/python/ChiantiPy-master/dbase/co/co_19/co_19.h5\n",
      "Wrote out /Users/cheung/python/ChiantiPy-master/dbase/co/co_17/co_17.h5\n",
      "Wrote out /Users/cheung/python/ChiantiPy-master/dbase/co/co_23/co_23.h5\n",
      "Wrote out /Users/cheung/python/ChiantiPy-master/dbase/co/co_24/co_24.h5\n",
      "Wrote out /Users/cheung/python/ChiantiPy-master/dbase/co/co_25/co_25.h5\n",
      "Wrote out /Users/cheung/python/ChiantiPy-master/dbase/co/co_22/co_22.h5\n",
      "Wrote out /Users/cheung/python/ChiantiPy-master/dbase/cr/cr_7/cr_7.h5\n",
      "Wrote out /Users/cheung/python/ChiantiPy-master/dbase/cr/cr_9/cr_9.h5\n",
      "Wrote out /Users/cheung/python/ChiantiPy-master/dbase/cr/cr_8/cr_8.h5\n",
      "Wrote out /Users/cheung/python/ChiantiPy-master/dbase/cr/cr_20/cr_20.h5\n",
      "Wrote out /Users/cheung/python/ChiantiPy-master/dbase/cr/cr_18/cr_18.h5\n",
      "Wrote out /Users/cheung/python/ChiantiPy-master/dbase/cr/cr_16/cr_16.h5\n",
      "Wrote out /Users/cheung/python/ChiantiPy-master/dbase/cr/cr_17/cr_17.h5\n",
      "Wrote out /Users/cheung/python/ChiantiPy-master/dbase/cr/cr_19/cr_19.h5\n",
      "Wrote out /Users/cheung/python/ChiantiPy-master/dbase/cr/cr_21/cr_21.h5\n",
      "Wrote out /Users/cheung/python/ChiantiPy-master/dbase/cr/cr_15/cr_15.h5\n",
      "Wrote out /Users/cheung/python/ChiantiPy-master/dbase/cr/cr_13/cr_13.h5\n",
      "Wrote out /Users/cheung/python/ChiantiPy-master/dbase/cr/cr_14/cr_14.h5\n",
      "Wrote out /Users/cheung/python/ChiantiPy-master/dbase/cr/cr_22/cr_22.h5\n",
      "Wrote out /Users/cheung/python/ChiantiPy-master/dbase/fe/fe_11d/fe_11d.h5\n",
      "Wrote out /Users/cheung/python/ChiantiPy-master/dbase/fe/fe_12d/fe_12d.h5\n",
      "Wrote out /Users/cheung/python/ChiantiPy-master/dbase/fe/fe_10/fe_10.h5\n",
      "Wrote out /Users/cheung/python/ChiantiPy-master/dbase/fe/fe_17/fe_17.h5\n",
      "Wrote out /Users/cheung/python/ChiantiPy-master/dbase/fe/fe_21/fe_21.h5\n",
      "Wrote out /Users/cheung/python/ChiantiPy-master/dbase/fe/fe_4d/fe_4d.h5\n",
      "Wrote out /Users/cheung/python/ChiantiPy-master/dbase/fe/fe_26/fe_26.h5\n",
      "Wrote out /Users/cheung/python/ChiantiPy-master/dbase/fe/fe_19/fe_19.h5\n",
      "Wrote out /Users/cheung/python/ChiantiPy-master/dbase/fe/fe_18/fe_18.h5\n",
      "Wrote out /Users/cheung/python/ChiantiPy-master/dbase/fe/fe_20/fe_20.h5\n",
      "Wrote out /Users/cheung/python/ChiantiPy-master/dbase/fe/fe_16/fe_16.h5\n",
      "Wrote out /Users/cheung/python/ChiantiPy-master/dbase/fe/fe_11/fe_11.h5\n",
      "Wrote out /Users/cheung/python/ChiantiPy-master/dbase/fe/fe_7d/fe_7d.h5\n",
      "Wrote out /Users/cheung/python/ChiantiPy-master/dbase/fe/fe_25d/fe_25d.h5\n",
      "Wrote out /Users/cheung/python/ChiantiPy-master/dbase/fe/fe_3d/fe_3d.h5\n",
      "Wrote out /Users/cheung/python/ChiantiPy-master/dbase/fe/fe_9d/fe_9d.h5\n",
      "Wrote out /Users/cheung/python/ChiantiPy-master/dbase/fe/fe_2/fe_2.h5\n",
      "Wrote out /Users/cheung/python/ChiantiPy-master/dbase/fe/fe_5/fe_5.h5\n",
      "Wrote out /Users/cheung/python/ChiantiPy-master/dbase/fe/fe_15d/fe_15d.h5\n",
      "Wrote out /Users/cheung/python/ChiantiPy-master/dbase/fe/fe_4/fe_4.h5\n",
      "Wrote out /Users/cheung/python/ChiantiPy-master/dbase/fe/fe_3/fe_3.h5\n",
      "Wrote out /Users/cheung/python/ChiantiPy-master/dbase/fe/fe_14d/fe_14d.h5\n",
      "Wrote out /Users/cheung/python/ChiantiPy-master/dbase/fe/fe_17d/fe_17d.h5\n",
      "Wrote out /Users/cheung/python/ChiantiPy-master/dbase/fe/fe_14/fe_14.h5\n",
      "Wrote out /Users/cheung/python/ChiantiPy-master/dbase/fe/fe_13/fe_13.h5\n",
      "Wrote out /Users/cheung/python/ChiantiPy-master/dbase/fe/fe_25/fe_25.h5\n",
      "Wrote out /Users/cheung/python/ChiantiPy-master/dbase/fe/fe_22/fe_22.h5\n",
      "Wrote out /Users/cheung/python/ChiantiPy-master/dbase/fe/fe_2d/fe_2d.h5\n",
      "Wrote out /Users/cheung/python/ChiantiPy-master/dbase/fe/fe_23/fe_23.h5\n",
      "Wrote out /Users/cheung/python/ChiantiPy-master/dbase/fe/fe_24/fe_24.h5\n",
      "Wrote out /Users/cheung/python/ChiantiPy-master/dbase/fe/fe_12/fe_12.h5\n",
      "Wrote out /Users/cheung/python/ChiantiPy-master/dbase/fe/fe_15/fe_15.h5\n",
      "Wrote out /Users/cheung/python/ChiantiPy-master/dbase/fe/fe_8d/fe_8d.h5\n",
      "Wrote out /Users/cheung/python/ChiantiPy-master/dbase/fe/fe_6d/fe_6d.h5\n",
      "Wrote out /Users/cheung/python/ChiantiPy-master/dbase/fe/fe_5d/fe_5d.h5\n",
      "Wrote out /Users/cheung/python/ChiantiPy-master/dbase/fe/fe_8/fe_8.h5\n",
      "Wrote out /Users/cheung/python/ChiantiPy-master/dbase/fe/fe_6/fe_6.h5\n",
      "Wrote out /Users/cheung/python/ChiantiPy-master/dbase/fe/fe_13d/fe_13d.h5\n",
      "Wrote out /Users/cheung/python/ChiantiPy-master/dbase/fe/fe_7/fe_7.h5\n",
      "Wrote out /Users/cheung/python/ChiantiPy-master/dbase/fe/fe_10d/fe_10d.h5\n",
      "Wrote out /Users/cheung/python/ChiantiPy-master/dbase/fe/fe_9/fe_9.h5\n",
      "Wrote out /Users/cheung/python/ChiantiPy-master/dbase/h/h_1/h_1.h5\n",
      "Wrote out /Users/cheung/python/ChiantiPy-master/dbase/he/he_2/he_2.h5\n",
      "Wrote out /Users/cheung/python/ChiantiPy-master/dbase/he/he_1/he_1.h5\n",
      "Wrote out /Users/cheung/python/ChiantiPy-master/dbase/k/k_6/k_6.h5\n",
      "Wrote out /Users/cheung/python/ChiantiPy-master/dbase/k/k_9/k_9.h5\n",
      "Wrote out /Users/cheung/python/ChiantiPy-master/dbase/k/k_12/k_12.h5\n",
      "Wrote out /Users/cheung/python/ChiantiPy-master/dbase/k/k_15/k_15.h5\n",
      "Wrote out /Users/cheung/python/ChiantiPy-master/dbase/k/k_14/k_14.h5\n",
      "Wrote out /Users/cheung/python/ChiantiPy-master/dbase/k/k_13/k_13.h5\n",
      "Wrote out /Users/cheung/python/ChiantiPy-master/dbase/k/k_5/k_5.h5\n",
      "Wrote out /Users/cheung/python/ChiantiPy-master/dbase/k/k_4/k_4.h5\n",
      "Wrote out /Users/cheung/python/ChiantiPy-master/dbase/k/k_18/k_18.h5\n",
      "Wrote out /Users/cheung/python/ChiantiPy-master/dbase/k/k_16/k_16.h5\n",
      "Wrote out /Users/cheung/python/ChiantiPy-master/dbase/k/k_11/k_11.h5\n",
      "Wrote out /Users/cheung/python/ChiantiPy-master/dbase/k/k_10/k_10.h5\n",
      "Wrote out /Users/cheung/python/ChiantiPy-master/dbase/k/k_17/k_17.h5\n",
      "Wrote out /Users/cheung/python/ChiantiPy-master/dbase/k/k_19/k_19.h5\n",
      "Wrote out /Users/cheung/python/ChiantiPy-master/dbase/mg/mg_7/mg_7.h5\n",
      "Wrote out /Users/cheung/python/ChiantiPy-master/dbase/mg/mg_9/mg_9.h5\n",
      "Wrote out /Users/cheung/python/ChiantiPy-master/dbase/mg/mg_8/mg_8.h5\n",
      "Wrote out /Users/cheung/python/ChiantiPy-master/dbase/mg/mg_6/mg_6.h5\n",
      "Wrote out /Users/cheung/python/ChiantiPy-master/dbase/mg/mg_10/mg_10.h5\n",
      "Wrote out /Users/cheung/python/ChiantiPy-master/dbase/mg/mg_11/mg_11.h5\n",
      "Wrote out /Users/cheung/python/ChiantiPy-master/dbase/mg/mg_11d/mg_11d.h5\n",
      "Wrote out /Users/cheung/python/ChiantiPy-master/dbase/mg/mg_3/mg_3.h5\n",
      "Wrote out /Users/cheung/python/ChiantiPy-master/dbase/mg/mg_4/mg_4.h5\n",
      "Wrote out /Users/cheung/python/ChiantiPy-master/dbase/mg/mg_5/mg_5.h5\n",
      "Wrote out /Users/cheung/python/ChiantiPy-master/dbase/mg/mg_2/mg_2.h5\n",
      "Wrote out /Users/cheung/python/ChiantiPy-master/dbase/mg/mg_12/mg_12.h5\n",
      "Wrote out /Users/cheung/python/ChiantiPy-master/dbase/mn/mn_22/mn_22.h5\n",
      "Wrote out /Users/cheung/python/ChiantiPy-master/dbase/mn/mn_23/mn_23.h5\n",
      "Wrote out /Users/cheung/python/ChiantiPy-master/dbase/mn/mn_15/mn_15.h5\n",
      "Wrote out /Users/cheung/python/ChiantiPy-master/dbase/mn/mn_9/mn_9.h5\n",
      "Wrote out /Users/cheung/python/ChiantiPy-master/dbase/mn/mn_8/mn_8.h5\n",
      "Wrote out /Users/cheung/python/ChiantiPy-master/dbase/mn/mn_17/mn_17.h5\n",
      "Wrote out /Users/cheung/python/ChiantiPy-master/dbase/mn/mn_10/mn_10.h5\n",
      "Wrote out /Users/cheung/python/ChiantiPy-master/dbase/mn/mn_19/mn_19.h5\n",
      "Wrote out /Users/cheung/python/ChiantiPy-master/dbase/mn/mn_21/mn_21.h5\n",
      "Wrote out /Users/cheung/python/ChiantiPy-master/dbase/mn/mn_20/mn_20.h5\n",
      "Wrote out /Users/cheung/python/ChiantiPy-master/dbase/mn/mn_18/mn_18.h5\n",
      "Wrote out /Users/cheung/python/ChiantiPy-master/dbase/mn/mn_16/mn_16.h5\n",
      "Wrote out /Users/cheung/python/ChiantiPy-master/dbase/n/n_6d/n_6d.h5\n",
      "Wrote out /Users/cheung/python/ChiantiPy-master/dbase/n/n_3/n_3.h5\n",
      "Wrote out /Users/cheung/python/ChiantiPy-master/dbase/n/n_4/n_4.h5\n",
      "Wrote out /Users/cheung/python/ChiantiPy-master/dbase/n/n_5/n_5.h5\n",
      "Wrote out /Users/cheung/python/ChiantiPy-master/dbase/n/n_2/n_2.h5\n",
      "Wrote out /Users/cheung/python/ChiantiPy-master/dbase/n/n_7/n_7.h5\n",
      "Wrote out /Users/cheung/python/ChiantiPy-master/dbase/n/n_1/n_1.h5\n",
      "Wrote out /Users/cheung/python/ChiantiPy-master/dbase/n/n_6/n_6.h5\n",
      "Wrote out /Users/cheung/python/ChiantiPy-master/dbase/na/na_8/na_8.h5\n",
      "Wrote out /Users/cheung/python/ChiantiPy-master/dbase/na/na_6/na_6.h5\n",
      "Wrote out /Users/cheung/python/ChiantiPy-master/dbase/na/na_7/na_7.h5\n",
      "Wrote out /Users/cheung/python/ChiantiPy-master/dbase/na/na_9/na_9.h5\n",
      "Wrote out /Users/cheung/python/ChiantiPy-master/dbase/na/na_2/na_2.h5\n",
      "Wrote out /Users/cheung/python/ChiantiPy-master/dbase/na/na_5/na_5.h5\n",
      "Wrote out /Users/cheung/python/ChiantiPy-master/dbase/na/na_11/na_11.h5\n",
      "Wrote out /Users/cheung/python/ChiantiPy-master/dbase/na/na_4/na_4.h5\n",
      "Wrote out /Users/cheung/python/ChiantiPy-master/dbase/na/na_3/na_3.h5\n",
      "Wrote out /Users/cheung/python/ChiantiPy-master/dbase/na/na_10/na_10.h5\n",
      "Wrote out /Users/cheung/python/ChiantiPy-master/dbase/ne/ne_9/ne_9.h5\n",
      "Wrote out /Users/cheung/python/ChiantiPy-master/dbase/ne/ne_7/ne_7.h5\n",
      "Wrote out /Users/cheung/python/ChiantiPy-master/dbase/ne/ne_6/ne_6.h5\n",
      "Wrote out /Users/cheung/python/ChiantiPy-master/dbase/ne/ne_8/ne_8.h5\n",
      "Wrote out /Users/cheung/python/ChiantiPy-master/dbase/ne/ne_9d/ne_9d.h5\n",
      "Wrote out /Users/cheung/python/ChiantiPy-master/dbase/ne/ne_4/ne_4.h5\n",
      "Wrote out /Users/cheung/python/ChiantiPy-master/dbase/ne/ne_10/ne_10.h5\n",
      "Wrote out /Users/cheung/python/ChiantiPy-master/dbase/ne/ne_3/ne_3.h5\n",
      "Wrote out /Users/cheung/python/ChiantiPy-master/dbase/ne/ne_2/ne_2.h5\n",
      "Wrote out /Users/cheung/python/ChiantiPy-master/dbase/ne/ne_5/ne_5.h5\n",
      "Wrote out /Users/cheung/python/ChiantiPy-master/dbase/ni/ni_28/ni_28.h5\n",
      "Wrote out /Users/cheung/python/ChiantiPy-master/dbase/ni/ni_17/ni_17.h5\n",
      "Wrote out /Users/cheung/python/ChiantiPy-master/dbase/ni/ni_21/ni_21.h5\n",
      "Wrote out /Users/cheung/python/ChiantiPy-master/dbase/ni/ni_19/ni_19.h5\n",
      "Wrote out /Users/cheung/python/ChiantiPy-master/dbase/ni/ni_26/ni_26.h5\n",
      "Wrote out /Users/cheung/python/ChiantiPy-master/dbase/ni/ni_2/ni_2.h5\n",
      "Wrote out /Users/cheung/python/ChiantiPy-master/dbase/ni/ni_18/ni_18.h5\n",
      "Wrote out /Users/cheung/python/ChiantiPy-master/dbase/ni/ni_27/ni_27.h5\n",
      "Wrote out /Users/cheung/python/ChiantiPy-master/dbase/ni/ni_20/ni_20.h5\n",
      "Wrote out /Users/cheung/python/ChiantiPy-master/dbase/ni/ni_16/ni_16.h5\n",
      "Wrote out /Users/cheung/python/ChiantiPy-master/dbase/ni/ni_11/ni_11.h5\n",
      "Wrote out /Users/cheung/python/ChiantiPy-master/dbase/ni/ni_27d/ni_27d.h5\n",
      "Wrote out /Users/cheung/python/ChiantiPy-master/dbase/ni/ni_14/ni_14.h5\n",
      "Wrote out /Users/cheung/python/ChiantiPy-master/dbase/ni/ni_13/ni_13.h5\n",
      "Wrote out /Users/cheung/python/ChiantiPy-master/dbase/ni/ni_25/ni_25.h5\n",
      "Wrote out /Users/cheung/python/ChiantiPy-master/dbase/ni/ni_22/ni_22.h5\n",
      "Wrote out /Users/cheung/python/ChiantiPy-master/dbase/ni/ni_23/ni_23.h5\n",
      "Wrote out /Users/cheung/python/ChiantiPy-master/dbase/ni/ni_24/ni_24.h5\n",
      "Wrote out /Users/cheung/python/ChiantiPy-master/dbase/ni/ni_12/ni_12.h5\n",
      "Wrote out /Users/cheung/python/ChiantiPy-master/dbase/ni/ni_15/ni_15.h5\n",
      "Wrote out /Users/cheung/python/ChiantiPy-master/dbase/o/o_7/o_7.h5\n",
      "Wrote out /Users/cheung/python/ChiantiPy-master/dbase/o/o_6/o_6.h5\n",
      "Wrote out /Users/cheung/python/ChiantiPy-master/dbase/o/o_1/o_1.h5\n",
      "Wrote out /Users/cheung/python/ChiantiPy-master/dbase/o/o_8/o_8.h5\n",
      "Wrote out /Users/cheung/python/ChiantiPy-master/dbase/o/o_4/o_4.h5\n",
      "Wrote out /Users/cheung/python/ChiantiPy-master/dbase/o/o_3/o_3.h5\n",
      "Wrote out /Users/cheung/python/ChiantiPy-master/dbase/o/o_2/o_2.h5\n",
      "Wrote out /Users/cheung/python/ChiantiPy-master/dbase/o/o_5/o_5.h5\n",
      "Wrote out /Users/cheung/python/ChiantiPy-master/dbase/o/o_7d/o_7d.h5\n",
      "Wrote out /Users/cheung/python/ChiantiPy-master/dbase/p/p_11/p_11.h5\n",
      "Wrote out /Users/cheung/python/ChiantiPy-master/dbase/p/p_10/p_10.h5\n",
      "Wrote out /Users/cheung/python/ChiantiPy-master/dbase/p/p_6/p_6.h5\n",
      "Wrote out /Users/cheung/python/ChiantiPy-master/dbase/p/p_8/p_8.h5\n",
      "Wrote out /Users/cheung/python/ChiantiPy-master/dbase/p/p_9/p_9.h5\n",
      "Wrote out /Users/cheung/python/ChiantiPy-master/dbase/p/p_7/p_7.h5\n",
      "Wrote out /Users/cheung/python/ChiantiPy-master/dbase/p/p_12/p_12.h5\n",
      "Wrote out /Users/cheung/python/ChiantiPy-master/dbase/p/p_15/p_15.h5\n",
      "Wrote out /Users/cheung/python/ChiantiPy-master/dbase/p/p_14/p_14.h5\n",
      "Wrote out /Users/cheung/python/ChiantiPy-master/dbase/p/p_13/p_13.h5\n",
      "Wrote out /Users/cheung/python/ChiantiPy-master/dbase/p/p_5/p_5.h5\n",
      "Wrote out /Users/cheung/python/ChiantiPy-master/dbase/s/s_6/s_6.h5\n",
      "Wrote out /Users/cheung/python/ChiantiPy-master/dbase/s/s_1/s_1.h5\n",
      "Wrote out /Users/cheung/python/ChiantiPy-master/dbase/s/s_8/s_8.h5\n",
      "Wrote out /Users/cheung/python/ChiantiPy-master/dbase/s/s_9/s_9.h5\n",
      "Wrote out /Users/cheung/python/ChiantiPy-master/dbase/s/s_7/s_7.h5\n",
      "Wrote out /Users/cheung/python/ChiantiPy-master/dbase/s/s_12/s_12.h5\n",
      "Wrote out /Users/cheung/python/ChiantiPy-master/dbase/s/s_15/s_15.h5\n",
      "Wrote out /Users/cheung/python/ChiantiPy-master/dbase/s/s_14/s_14.h5\n",
      "Wrote out /Users/cheung/python/ChiantiPy-master/dbase/s/s_13/s_13.h5\n",
      "Wrote out /Users/cheung/python/ChiantiPy-master/dbase/s/s_2/s_2.h5\n",
      "Wrote out /Users/cheung/python/ChiantiPy-master/dbase/s/s_5/s_5.h5\n",
      "Wrote out /Users/cheung/python/ChiantiPy-master/dbase/s/s_4/s_4.h5\n",
      "Wrote out /Users/cheung/python/ChiantiPy-master/dbase/s/s_3/s_3.h5\n",
      "Wrote out /Users/cheung/python/ChiantiPy-master/dbase/s/s_16/s_16.h5\n",
      "Wrote out /Users/cheung/python/ChiantiPy-master/dbase/s/s_11/s_11.h5\n",
      "Wrote out /Users/cheung/python/ChiantiPy-master/dbase/s/s_10/s_10.h5\n",
      "Wrote out /Users/cheung/python/ChiantiPy-master/dbase/s/s_15d/s_15d.h5\n",
      "Wrote out /Users/cheung/python/ChiantiPy-master/dbase/si/si_13d/si_13d.h5\n",
      "Wrote out /Users/cheung/python/ChiantiPy-master/dbase/si/si_12/si_12.h5\n",
      "Wrote out /Users/cheung/python/ChiantiPy-master/dbase/si/si_14/si_14.h5\n",
      "Wrote out /Users/cheung/python/ChiantiPy-master/dbase/si/si_13/si_13.h5\n",
      "Wrote out /Users/cheung/python/ChiantiPy-master/dbase/si/si_2/si_2.h5\n",
      "Wrote out /Users/cheung/python/ChiantiPy-master/dbase/si/si_5/si_5.h5\n",
      "Wrote out /Users/cheung/python/ChiantiPy-master/dbase/si/si_4/si_4.h5\n",
      "Wrote out /Users/cheung/python/ChiantiPy-master/dbase/si/si_3/si_3.h5\n",
      "Wrote out /Users/cheung/python/ChiantiPy-master/dbase/si/si_11/si_11.h5\n",
      "Wrote out /Users/cheung/python/ChiantiPy-master/dbase/si/si_10/si_10.h5\n",
      "Wrote out /Users/cheung/python/ChiantiPy-master/dbase/si/si_6/si_6.h5\n",
      "Wrote out /Users/cheung/python/ChiantiPy-master/dbase/si/si_8/si_8.h5\n",
      "Wrote out /Users/cheung/python/ChiantiPy-master/dbase/si/si_9/si_9.h5\n",
      "Wrote out /Users/cheung/python/ChiantiPy-master/dbase/si/si_7/si_7.h5\n",
      "Wrote out /Users/cheung/python/ChiantiPy-master/dbase/ti/ti_15/ti_15.h5\n",
      "Wrote out /Users/cheung/python/ChiantiPy-master/dbase/ti/ti_12/ti_12.h5\n",
      "Wrote out /Users/cheung/python/ChiantiPy-master/dbase/ti/ti_13/ti_13.h5\n",
      "Wrote out /Users/cheung/python/ChiantiPy-master/dbase/ti/ti_14/ti_14.h5\n",
      "Wrote out /Users/cheung/python/ChiantiPy-master/dbase/ti/ti_11/ti_11.h5\n",
      "Wrote out /Users/cheung/python/ChiantiPy-master/dbase/ti/ti_16/ti_16.h5\n",
      "Wrote out /Users/cheung/python/ChiantiPy-master/dbase/ti/ti_20/ti_20.h5\n",
      "Wrote out /Users/cheung/python/ChiantiPy-master/dbase/ti/ti_18/ti_18.h5\n",
      "Wrote out /Users/cheung/python/ChiantiPy-master/dbase/ti/ti_19/ti_19.h5\n",
      "Wrote out /Users/cheung/python/ChiantiPy-master/dbase/ti/ti_17/ti_17.h5\n",
      "Wrote out /Users/cheung/python/ChiantiPy-master/dbase/zn/zn_25/zn_25.h5\n",
      "Wrote out /Users/cheung/python/ChiantiPy-master/dbase/zn/zn_24/zn_24.h5\n",
      "Wrote out /Users/cheung/python/ChiantiPy-master/dbase/zn/zn_23/zn_23.h5\n",
      "Wrote out /Users/cheung/python/ChiantiPy-master/dbase/zn/zn_28/zn_28.h5\n",
      "Wrote out /Users/cheung/python/ChiantiPy-master/dbase/zn/zn_21/zn_21.h5\n",
      "Wrote out /Users/cheung/python/ChiantiPy-master/dbase/zn/zn_20/zn_20.h5\n",
      "Wrote out /Users/cheung/python/ChiantiPy-master/dbase/zn/zn_27/zn_27.h5\n",
      "Wrote out /Users/cheung/python/ChiantiPy-master/dbase/zn/zn_29/zn_29.h5\n"
     ]
    }
   ],
   "source": [
    "# Convert all wgfa files into HDF5\n",
    "for atom in atoms:\n",
    "    astr = (atom.split('/'))[-1]\n",
    "    ions = (glob.glob(\"{}/{}/{}*\".format(base,astr,astr)))\n",
    "    #print(astr)\n",
    "    for ion in ions:\n",
    "        istr = (ion.split('/'))[-1]\n",
    "        #print(istr)\n",
    "        wfiles = glob.glob(\"{}/{}/{}/*.wgfa\".format(base,astr,istr))\n",
    "        for w in wfiles:\n",
    "            wgfa = io.wgfaRead(istr, filename=w, total=True)\n",
    "            filename=\"/Users/cheung/python/ChiantiPy-master/dbase/{}/{}/{}.h5\".format((istr.split('_'))[0], istr, istr)\n",
    "            wgfa2h5(wgfa, filename)\n",
    "            print('Wrote out',filename)\n"
   ]
  },
  {
   "cell_type": "code",
   "execution_count": null,
   "metadata": {},
   "outputs": [],
   "source": []
  }
 ],
 "metadata": {
  "kernelspec": {
   "display_name": "Python 3",
   "language": "python",
   "name": "python3"
  },
  "language_info": {
   "codemirror_mode": {
    "name": "ipython",
    "version": 3
   },
   "file_extension": ".py",
   "mimetype": "text/x-python",
   "name": "python",
   "nbconvert_exporter": "python",
   "pygments_lexer": "ipython3",
   "version": "3.7.1"
  }
 },
 "nbformat": 4,
 "nbformat_minor": 2
}
